{
 "cells": [
  {
   "cell_type": "code",
   "execution_count": 2,
   "id": "bfd03ad2-dd34-4c05-8ec5-d2d47b135960",
   "metadata": {},
   "outputs": [
    {
     "name": "stdout",
     "output_type": "stream",
     "text": [
      "Howdy World\n"
     ]
    }
   ],
   "source": [
    "print(\"Howdy World\");"
   ]
  },
  {
   "cell_type": "code",
   "execution_count": null,
   "id": "13724206-7eef-4cc5-91c7-a589f0393003",
   "metadata": {},
   "outputs": [],
   "source": [
    "print(\"Howdy World Again\");"
   ]
  }
 ],
 "metadata": {
  "kernelspec": {
   "display_name": "Python 3 (ipykernel)",
   "language": "python",
   "name": "python3"
  },
  "language_info": {
   "codemirror_mode": {
    "name": "ipython",
    "version": 3
   },
   "file_extension": ".py",
   "mimetype": "text/x-python",
   "name": "python",
   "nbconvert_exporter": "python",
   "pygments_lexer": "ipython3",
   "version": "3.7.12"
  }
 },
 "nbformat": 4,
 "nbformat_minor": 5
}
