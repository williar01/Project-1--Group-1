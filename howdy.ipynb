{
 "cells": [
  {
   "cell_type": "code",
   "execution_count": 2,
   "id": "8ec2a3c4",
   "metadata": {},
   "outputs": [
    {
     "name": "stdout",
     "output_type": "stream",
     "text": [
      "Howdy World\n"
     ]
    }
   ],
   "source": [
    "print(\"Howdy World\");"
   ]
  },
  {
   "cell_type": "code",
   "execution_count": null,
   "id": "4882fb0f",
   "metadata": {},
   "outputs": [],
   "source": [
    "print(\"Howdy World Again\");"
   ]
  },
  {
   "cell_type": "code",
   "execution_count": 1,
   "id": "722d1997",
   "metadata": {},
   "outputs": [
    {
     "name": "stdout",
     "output_type": "stream",
     "text": [
      "Hello fromm Gregg\n"
     ]
    }
   ],
   "source": [
    "print(\"Hello fromm Gregg\")"
   ]
  },
  {
   "cell_type": "code",
   "execution_count": null,
   "id": "61dfed7a",
   "metadata": {},
   "outputs": [],
   "source": []
  }
 ],
 "metadata": {
  "kernelspec": {
   "display_name": "Python 3 (ipykernel)",
   "language": "python",
   "name": "python3"
  },
  "language_info": {
   "codemirror_mode": {
    "name": "ipython",
    "version": 3
   },
   "file_extension": ".py",
   "mimetype": "text/x-python",
   "name": "python",
   "nbconvert_exporter": "python",
   "pygments_lexer": "ipython3",
   "version": "3.9.7"
  }
 },
 "nbformat": 4,
 "nbformat_minor": 5
}
